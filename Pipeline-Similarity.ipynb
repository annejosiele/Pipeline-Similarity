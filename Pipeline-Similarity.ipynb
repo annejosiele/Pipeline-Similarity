Pipeline-Similarity

import pandas as pd
from rdkit import Chem
from rdkit.Chem import AllChem, DataStructs
from sklearn.metrics import pairwise_distances
import numpy as np
# Carregar o arquivo Excel
file_path = "full-smiles.xlsx"
data = pd.read_excel(file_path)

# Verificar a coluna de SMILES
if "Canonical SMILES" not in data.columns:
    raise ValueError("A coluna 'smiles' não foi encontrada no conjunto de dados.")

# Remover linhas vazias na coluna 'Canonical SMILES'
data = data.dropna(subset=["Canonical SMILES"]).reset_index(drop=True)

# Converter SMILES para moléculas RDKit
data["mol"] = data["Canonical SMILES"].apply(Chem.MolFromSmiles)

# Remover linhas com moléculas inválidas
data = data.dropna(subset=["mol"]).reset_index(drop=True)
print(f"Conjunto de dados processado: {len(data)} moléculas válidas.")

# Calcular os fingerprints para cada molécula
data["fingerprint"] = data["mol"].apply(lambda x: AllChem.GetMorganFingerprintAsBitVect(x, radius=2, nBits=1024))

# Função para converter fingerprint em vetor binário
def fingerprint_to_array(fp):
    arr = np.zeros((1,))
    DataStructs.ConvertToNumpyArray(fp, arr)
    return arr

# Converter os fingerprints para arrays NumPy
fingerprints_array = np.array([fingerprint_to_array(fp) for fp in data["fingerprint"]])

# Calcular a matriz de similaridade (1 - distância de Tanimoto)
similarity_matrix = 1 - pairwise_distances(fingerprints_array, metric="jaccard")

# Adicionar a similaridade média para cada molécula (opcional)
data["similarity_mean"] = similarity_matrix.mean(axis=1)

# Exibir a matriz de similaridade (opcional)
print(f"Matriz de similaridade:\n{similarity_matrix}")


# Criar o heatmap da matriz de similaridade
import seaborn as sns
import matplotlib.pyplot as plt
plt.figure(figsize=(10, 8))
sns.heatmap(similarity_matrix, cmap="magma", xticklabels=False, yticklabels=False)
plt.title("Heatmap de Similaridade (Tanimoto)")
plt.xlabel("Moléculas")
plt.ylabel("Moléculas")
plt.show()


import matplotlib.pyplot as plt
import seaborn as sns

# Supondo que 'similarity_matrix' seja a matriz de similaridade entre todas as moléculas
# e 'data_sorted' contém os nomes dos compostos

plt.figure(figsize=(12, 10))  # Ajustar o tamanho do gráfico

# Criar o heatmap
sns.heatmap(similarity_matrix,
            cmap="coolwarm",
            xticklabels=data["Inference Network"],  # Usar os nomes dos compostos no eixo X
            yticklabels=data["Inference Network"],  # Usar os nomes dos compostos no eixo Y
            cbar_kws={'label': 'Similaridade'},  # Legenda da cor
            annot=False)  # Não exibir os valores individuais dentro do heatmap

# Título e rótulos
plt.title("Heatmap de Similaridade entre as Moléculas (Tanimoto)", fontsize=16)
plt.xlabel("Moléculas", fontsize=12)
plt.ylabel("Moléculas", fontsize=12)

# Ajustar a rotação dos rótulos no eixo X para evitar sobreposição
plt.xticks(rotation=90, fontsize=4)
plt.yticks(rotation=0, fontsize=4)

# Salvar o gráfico em alta qualidade (300 DPI)
plt.savefig("heatmap_similaridade2.png", dpi=300, bbox_inches="tight")

plt.tight_layout()
plt.show()
