# Pipeline Similarity
# Importing libraries
import pandas as pd
from rdkit import Chem
from rdkit.Chem import AllChem, DataStructs
from sklearn.metrics import pairwise_distances
import numpy as np
import matplotlib.pyplot as plt
import seaborn as sns

# Loading data
file_path = "data-with-SMILES.xlsx"
data = pd.read_excel(file_path)

# Check SMILES row
if "name-SMILES-row" not in data.columns:
    raise ValueError("The 'smiles' row was not found.")

# Remove empty lines on SMILES row
data = data.dropna(subset=["name-SMILES-row"]).reset_index(drop=True)

# Convert SMILES into RDKit molecules
data["mol"] = data["name-SMILES-row"].apply(Chem.MolFromSmiles)

# Remove lines with invalid molecules
data = data.dropna(subset=["mol"]).reset_index(drop=True)
print(f"Processed dataset: {len(data)} invalid molecules.")

# Calculating the fingerprints to each molecule
data["fingerprint"] = data["mol"].apply(lambda x: AllChem.GetMorganFingerprintAsBitVect(x, radius=2, nBits=1024))

def fingerprint_to_array(fp):
    arr = np.zeros((1,))
    DataStructs.ConvertToNumpyArray(fp, arr)
    return arr

fingerprints_array = np.array([fingerprint_to_array(fp) for fp in data["fingerprint"]])

# Calculating the similarity matrix - Tanimoto)
similarity_matrix = 1 - pairwise_distances(fingerprints_array, metric="jaccard")

data["similarity_mean"] = similarity_matrix.mean(axis=1)

# Show similarity matriz
print(f"Similarity matrix:\n{similarity_matrix}")


# Creating the heatmap 
plt.figure(figsize=(12, 10))

sns.heatmap(similarity_matrix, 
            cmap="coolwarm", 
            xticklabels=data["row-with-chemical-names"],  # Usar os nomes dos compostos no eixo X
            yticklabels=data["row-with-chemical-names"],  # Usar os nomes dos compostos no eixo Y
            cbar_kws={'label': 'Similarity'},  # Legenda da cor
            annot=False)  # Não exibir os valores individuais dentro do heatmap

# Título e rótulos
plt.title("Similarity Heatmap Between the Molecules (Tanimoto)", fontsize=16)
plt.xlabel("Molecules", fontsize=12)
plt.ylabel("Molecules", fontsize=12)

# Ajustar a rotação dos rótulos no eixo X para evitar sobreposição
plt.xticks(rotation=90, fontsize=4)
plt.yticks(rotation=0, fontsize=4)

# Salvar o gráfico em alta qualidade (300 DPI)
plt.savefig("file-name.png", dpi=300, bbox_inches="tight")

plt.tight_layout()
plt.show()
